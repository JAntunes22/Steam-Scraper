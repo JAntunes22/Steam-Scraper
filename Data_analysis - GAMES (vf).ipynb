{
 "cells": [
  {
   "cell_type": "code",
   "execution_count": 1,
   "metadata": {},
   "outputs": [],
   "source": [
    "import matplotlib.pyplot as plt\n",
    "import pandas as pd\n",
    "import numpy as np\n",
    "import seaborn as sns\n",
    "import statsmodels.api as sm\n",
    "import statsmodels.formula.api as smf\n",
    "import scipy.stats as st\n",
    "from sklearn.linear_model import LinearRegression"
   ]
  },
  {
   "cell_type": "code",
   "execution_count": 3,
   "metadata": {},
   "outputs": [
    {
     "data": {
      "text/html": [
       "<div>\n",
       "<style scoped>\n",
       "    .dataframe tbody tr th:only-of-type {\n",
       "        vertical-align: middle;\n",
       "    }\n",
       "\n",
       "    .dataframe tbody tr th {\n",
       "        vertical-align: top;\n",
       "    }\n",
       "\n",
       "    .dataframe thead th {\n",
       "        text-align: right;\n",
       "    }\n",
       "</style>\n",
       "<table border=\"1\" class=\"dataframe\">\n",
       "  <thead>\n",
       "    <tr style=\"text-align: right;\">\n",
       "      <th></th>\n",
       "      <th>id</th>\n",
       "      <th>title</th>\n",
       "      <th>release_date</th>\n",
       "      <th>recent_reviews</th>\n",
       "      <th>all_reviews</th>\n",
       "      <th>price</th>\n",
       "      <th>developers</th>\n",
       "      <th>number_languages</th>\n",
       "      <th>compatible_os</th>\n",
       "      <th>tags</th>\n",
       "    </tr>\n",
       "  </thead>\n",
       "  <tbody>\n",
       "    <tr>\n",
       "      <th>0</th>\n",
       "      <td>302970</td>\n",
       "      <td>Radiant Defense</td>\n",
       "      <td>11 Jul, 2014</td>\n",
       "      <td>['83', '95']</td>\n",
       "      <td>['83', '95']</td>\n",
       "      <td>['4,99']</td>\n",
       "      <td>['Hexage']</td>\n",
       "      <td>7</td>\n",
       "      <td>1</td>\n",
       "      <td>['Strategy', 'Indie', 'TowerDefense']</td>\n",
       "    </tr>\n",
       "    <tr>\n",
       "      <th>1</th>\n",
       "      <td>1329600</td>\n",
       "      <td>Karting</td>\n",
       "      <td>15 Apr, 2021</td>\n",
       "      <td>['85', '14', '30']</td>\n",
       "      <td>['88', '326']</td>\n",
       "      <td>['1,99']</td>\n",
       "      <td>['RewindApp']</td>\n",
       "      <td>1</td>\n",
       "      <td>1</td>\n",
       "      <td>['Racing', 'Casual', 'Multiplayer', 'Simulatio...</td>\n",
       "    </tr>\n",
       "    <tr>\n",
       "      <th>2</th>\n",
       "      <td>1073820</td>\n",
       "      <td>Love, Sam</td>\n",
       "      <td>31 May, 2019</td>\n",
       "      <td>['94', '175']</td>\n",
       "      <td>['94', '175']</td>\n",
       "      <td>['2,39']</td>\n",
       "      <td>['Korean Linguistics Lab']</td>\n",
       "      <td>1</td>\n",
       "      <td>1</td>\n",
       "      <td>['Adventure', 'Indie', 'Violent', 'Horror', 'P...</td>\n",
       "    </tr>\n",
       "    <tr>\n",
       "      <th>3</th>\n",
       "      <td>714800</td>\n",
       "      <td>Maitetsu</td>\n",
       "      <td>29 Jun, 2018</td>\n",
       "      <td>['95', '285']</td>\n",
       "      <td>['95', '285']</td>\n",
       "      <td>['12,49']</td>\n",
       "      <td>['Lose']</td>\n",
       "      <td>2</td>\n",
       "      <td>1</td>\n",
       "      <td>['Cute', 'Anime', 'VisualNovel', 'Trains', 'Ca...</td>\n",
       "    </tr>\n",
       "    <tr>\n",
       "      <th>4</th>\n",
       "      <td>203990</td>\n",
       "      <td>SATAZIUS</td>\n",
       "      <td>16 Dec, 2011</td>\n",
       "      <td>['90', '151']</td>\n",
       "      <td>['90', '151']</td>\n",
       "      <td>NaN</td>\n",
       "      <td>['ASTRO PORT']</td>\n",
       "      <td>2</td>\n",
       "      <td>2</td>\n",
       "      <td>[\"Shoot'EmUp\", 'Indie', 'Action', 'Arcade', '2...</td>\n",
       "    </tr>\n",
       "  </tbody>\n",
       "</table>\n",
       "</div>"
      ],
      "text/plain": [
       "        id            title  release_date      recent_reviews    all_reviews  \\\n",
       "0   302970  Radiant Defense  11 Jul, 2014        ['83', '95']   ['83', '95']   \n",
       "1  1329600          Karting  15 Apr, 2021  ['85', '14', '30']  ['88', '326']   \n",
       "2  1073820        Love, Sam  31 May, 2019       ['94', '175']  ['94', '175']   \n",
       "3   714800         Maitetsu  29 Jun, 2018       ['95', '285']  ['95', '285']   \n",
       "4   203990         SATAZIUS  16 Dec, 2011       ['90', '151']  ['90', '151']   \n",
       "\n",
       "       price                  developers  number_languages  compatible_os  \\\n",
       "0   ['4,99']                  ['Hexage']                 7              1   \n",
       "1   ['1,99']               ['RewindApp']                 1              1   \n",
       "2   ['2,39']  ['Korean Linguistics Lab']                 1              1   \n",
       "3  ['12,49']                    ['Lose']                 2              1   \n",
       "4        NaN              ['ASTRO PORT']                 2              2   \n",
       "\n",
       "                                                tags  \n",
       "0              ['Strategy', 'Indie', 'TowerDefense']  \n",
       "1  ['Racing', 'Casual', 'Multiplayer', 'Simulatio...  \n",
       "2  ['Adventure', 'Indie', 'Violent', 'Horror', 'P...  \n",
       "3  ['Cute', 'Anime', 'VisualNovel', 'Trains', 'Ca...  \n",
       "4  [\"Shoot'EmUp\", 'Indie', 'Action', 'Arcade', '2...  "
      ]
     },
     "execution_count": 3,
     "metadata": {},
     "output_type": "execute_result"
    }
   ],
   "source": [
    "df=pd.read_csv('steam_data.csv')\n",
    "df.head()"
   ]
  },
  {
   "cell_type": "markdown",
   "metadata": {},
   "source": [
    "Before beginning with the data analysis, we created some new columns in the data base scraped, that could help us on building plots and getting insights."
   ]
  },
  {
   "cell_type": "code",
   "execution_count": 4,
   "metadata": {},
   "outputs": [],
   "source": [
    "#Adding new column with prices as float\n",
    "price=[]\n",
    "for p in df.price:\n",
    "    if type(p)==str and len(p)!=2:\n",
    "        pp=p.replace(',','.').replace('[','').replace(']','').replace(\"'\",'')\n",
    "        if pp.replace('.','').isnumeric():\n",
    "            price.append(float(pp))\n",
    "        else:\n",
    "            price.append(0)\n",
    "    elif type(p)==str and len(p)==2:\n",
    "        price.append(0)\n",
    "    elif np.isnan(p):\n",
    "        price.append(0)\n",
    "    else:\n",
    "        price.append(p)\n",
    "df['price_float']=price"
   ]
  },
  {
   "cell_type": "code",
   "execution_count": 5,
   "metadata": {},
   "outputs": [],
   "source": [
    "#Adding new column with the range of prices classification\n",
    "\n",
    "df.loc[(df['price_float']==0),'price_range']='0'\n",
    "df.loc[(df['price_float']>0)&(df['price_float']<=10),'price_range']='1-10'\n",
    "df.loc[(df['price_float']>10)&(df['price_float']<=20),'price_range']='11-20'\n",
    "df.loc[(df['price_float']>20)&(df['price_float']<=30),'price_range']='21-30'\n",
    "df.loc[(df['price_float']>30)&(df['price_float']<=40),'price_range']='31-40'\n",
    "df.loc[(df['price_float']>40)&(df['price_float']<=50),'price_range']='41-50'\n",
    "df.loc[(df['price_float']>50)&(df['price_float']<=60),'price_range']='51-60'\n",
    "#df.head()"
   ]
  },
  {
   "cell_type": "code",
   "execution_count": 6,
   "metadata": {},
   "outputs": [],
   "source": [
    "#Adding new column with the total positives reviews as float\n",
    "positive_reviews=[]\n",
    "for a in df.all_reviews:\n",
    "    if type(a)==str:\n",
    "        positive_reviews.append(int(float(a[2:4])))\n",
    "    elif np.isnan(a):\n",
    "        positive_reviews.append(0)\n",
    "        \n",
    "df['positive_reviews']=positive_reviews"
   ]
  },
  {
   "cell_type": "code",
   "execution_count": 7,
   "metadata": {},
   "outputs": [],
   "source": [
    "#Adding new column with the total reviews as float in thousands\n",
    "total_reviews=[]\n",
    "for b in df.all_reviews:\n",
    "    if type(b)==str and b[4]==\"'\" and len(b)<=17:\n",
    "        total_reviews.append((float(b[8:-2].replace(',','')))/1000)\n",
    "    elif type(b)==str and b[4]!=\"'\" and len(b)<=17:\n",
    "        total_reviews.append((float(b[9:-2].replace(',','')))/1000)\n",
    "    elif type(b)==str and b[4]==\"'\" and len(b)>17:\n",
    "        total_reviews.append((float(b[8:-10].replace(',','')+b[-5:-2]))/1000)\n",
    "    elif type(b)==str and b[4]!=\"'\" and len(b)>17:\n",
    "        total_reviews.append((float(b[9:-10].replace(',','')+b[-5:-2]))/1000)\n",
    "    elif np.isnan(b):\n",
    "        total_reviews.append(0)\n",
    "\n",
    "df['total_reviews']=total_reviews"
   ]
  },
  {
   "cell_type": "code",
   "execution_count": 8,
   "metadata": {},
   "outputs": [],
   "source": [
    "#Adding new column identifying the 5 stars games\n",
    "df.loc[(df['positive_reviews']>=95),'five_stars']=1\n",
    "df.loc[(df['positive_reviews']<95),'five_stars']=0\n",
    "#df.head()"
   ]
  },
  {
   "cell_type": "code",
   "execution_count": 9,
   "metadata": {},
   "outputs": [],
   "source": [
    "#Adding new column with the age of the games in years\n",
    "\n",
    "age=[]\n",
    "for c in df.release_date:\n",
    "    if type(c)==str and c[-4:].isnumeric(): #c!='Soon™' and c[-3]!='.':\n",
    "        age.append(int(2022-float(c[-4:])))\n",
    "    elif type(c)==str:\n",
    "        age.append(0)\n",
    "    else:\n",
    "        age.append(0)\n",
    "        \n",
    "df['age']=age"
   ]
  },
  {
   "cell_type": "code",
   "execution_count": 10,
   "metadata": {},
   "outputs": [],
   "source": [
    "#Adding new column with the quantity of tags\n",
    "tags=[]\n",
    "j=0\n",
    "for tt in df.tags:\n",
    "    if type(tt)==float:\n",
    "        tags.append(0)\n",
    "    else:\n",
    "        for t in tt:\n",
    "            if t == ',':\n",
    "                j+=1\n",
    "        n_tags=j+1\n",
    "        tags.append(n_tags)\n",
    "        j=0\n",
    "df['n_tags']=tags\n",
    "#df.head()"
   ]
  },
  {
   "cell_type": "markdown",
   "metadata": {},
   "source": [
    "The final data base:"
   ]
  },
  {
   "cell_type": "code",
   "execution_count": 11,
   "metadata": {},
   "outputs": [
    {
     "data": {
      "text/html": [
       "<div>\n",
       "<style scoped>\n",
       "    .dataframe tbody tr th:only-of-type {\n",
       "        vertical-align: middle;\n",
       "    }\n",
       "\n",
       "    .dataframe tbody tr th {\n",
       "        vertical-align: top;\n",
       "    }\n",
       "\n",
       "    .dataframe thead th {\n",
       "        text-align: right;\n",
       "    }\n",
       "</style>\n",
       "<table border=\"1\" class=\"dataframe\">\n",
       "  <thead>\n",
       "    <tr style=\"text-align: right;\">\n",
       "      <th></th>\n",
       "      <th>id</th>\n",
       "      <th>title</th>\n",
       "      <th>release_date</th>\n",
       "      <th>recent_reviews</th>\n",
       "      <th>all_reviews</th>\n",
       "      <th>price</th>\n",
       "      <th>developers</th>\n",
       "      <th>number_languages</th>\n",
       "      <th>compatible_os</th>\n",
       "      <th>tags</th>\n",
       "      <th>price_float</th>\n",
       "      <th>price_range</th>\n",
       "      <th>positive_reviews</th>\n",
       "      <th>total_reviews</th>\n",
       "      <th>five_stars</th>\n",
       "      <th>age</th>\n",
       "      <th>n_tags</th>\n",
       "    </tr>\n",
       "  </thead>\n",
       "  <tbody>\n",
       "    <tr>\n",
       "      <th>0</th>\n",
       "      <td>302970</td>\n",
       "      <td>Radiant Defense</td>\n",
       "      <td>11 Jul, 2014</td>\n",
       "      <td>['83', '95']</td>\n",
       "      <td>['83', '95']</td>\n",
       "      <td>['4,99']</td>\n",
       "      <td>['Hexage']</td>\n",
       "      <td>7</td>\n",
       "      <td>1</td>\n",
       "      <td>['Strategy', 'Indie', 'TowerDefense']</td>\n",
       "      <td>4.99</td>\n",
       "      <td>1-10</td>\n",
       "      <td>83</td>\n",
       "      <td>0.095</td>\n",
       "      <td>0.0</td>\n",
       "      <td>8</td>\n",
       "      <td>3</td>\n",
       "    </tr>\n",
       "    <tr>\n",
       "      <th>1</th>\n",
       "      <td>1329600</td>\n",
       "      <td>Karting</td>\n",
       "      <td>15 Apr, 2021</td>\n",
       "      <td>['85', '14', '30']</td>\n",
       "      <td>['88', '326']</td>\n",
       "      <td>['1,99']</td>\n",
       "      <td>['RewindApp']</td>\n",
       "      <td>1</td>\n",
       "      <td>1</td>\n",
       "      <td>['Racing', 'Casual', 'Multiplayer', 'Simulatio...</td>\n",
       "      <td>1.99</td>\n",
       "      <td>1-10</td>\n",
       "      <td>88</td>\n",
       "      <td>0.326</td>\n",
       "      <td>0.0</td>\n",
       "      <td>1</td>\n",
       "      <td>15</td>\n",
       "    </tr>\n",
       "    <tr>\n",
       "      <th>2</th>\n",
       "      <td>1073820</td>\n",
       "      <td>Love, Sam</td>\n",
       "      <td>31 May, 2019</td>\n",
       "      <td>['94', '175']</td>\n",
       "      <td>['94', '175']</td>\n",
       "      <td>['2,39']</td>\n",
       "      <td>['Korean Linguistics Lab']</td>\n",
       "      <td>1</td>\n",
       "      <td>1</td>\n",
       "      <td>['Adventure', 'Indie', 'Violent', 'Horror', 'P...</td>\n",
       "      <td>2.39</td>\n",
       "      <td>1-10</td>\n",
       "      <td>94</td>\n",
       "      <td>0.175</td>\n",
       "      <td>0.0</td>\n",
       "      <td>3</td>\n",
       "      <td>5</td>\n",
       "    </tr>\n",
       "    <tr>\n",
       "      <th>3</th>\n",
       "      <td>714800</td>\n",
       "      <td>Maitetsu</td>\n",
       "      <td>29 Jun, 2018</td>\n",
       "      <td>['95', '285']</td>\n",
       "      <td>['95', '285']</td>\n",
       "      <td>['12,49']</td>\n",
       "      <td>['Lose']</td>\n",
       "      <td>2</td>\n",
       "      <td>1</td>\n",
       "      <td>['Cute', 'Anime', 'VisualNovel', 'Trains', 'Ca...</td>\n",
       "      <td>12.49</td>\n",
       "      <td>11-20</td>\n",
       "      <td>95</td>\n",
       "      <td>0.285</td>\n",
       "      <td>1.0</td>\n",
       "      <td>4</td>\n",
       "      <td>15</td>\n",
       "    </tr>\n",
       "    <tr>\n",
       "      <th>4</th>\n",
       "      <td>203990</td>\n",
       "      <td>SATAZIUS</td>\n",
       "      <td>16 Dec, 2011</td>\n",
       "      <td>['90', '151']</td>\n",
       "      <td>['90', '151']</td>\n",
       "      <td>NaN</td>\n",
       "      <td>['ASTRO PORT']</td>\n",
       "      <td>2</td>\n",
       "      <td>2</td>\n",
       "      <td>[\"Shoot'EmUp\", 'Indie', 'Action', 'Arcade', '2...</td>\n",
       "      <td>0.00</td>\n",
       "      <td>0</td>\n",
       "      <td>90</td>\n",
       "      <td>0.151</td>\n",
       "      <td>0.0</td>\n",
       "      <td>11</td>\n",
       "      <td>9</td>\n",
       "    </tr>\n",
       "  </tbody>\n",
       "</table>\n",
       "</div>"
      ],
      "text/plain": [
       "        id            title  release_date      recent_reviews    all_reviews  \\\n",
       "0   302970  Radiant Defense  11 Jul, 2014        ['83', '95']   ['83', '95']   \n",
       "1  1329600          Karting  15 Apr, 2021  ['85', '14', '30']  ['88', '326']   \n",
       "2  1073820        Love, Sam  31 May, 2019       ['94', '175']  ['94', '175']   \n",
       "3   714800         Maitetsu  29 Jun, 2018       ['95', '285']  ['95', '285']   \n",
       "4   203990         SATAZIUS  16 Dec, 2011       ['90', '151']  ['90', '151']   \n",
       "\n",
       "       price                  developers  number_languages  compatible_os  \\\n",
       "0   ['4,99']                  ['Hexage']                 7              1   \n",
       "1   ['1,99']               ['RewindApp']                 1              1   \n",
       "2   ['2,39']  ['Korean Linguistics Lab']                 1              1   \n",
       "3  ['12,49']                    ['Lose']                 2              1   \n",
       "4        NaN              ['ASTRO PORT']                 2              2   \n",
       "\n",
       "                                                tags  price_float price_range  \\\n",
       "0              ['Strategy', 'Indie', 'TowerDefense']         4.99        1-10   \n",
       "1  ['Racing', 'Casual', 'Multiplayer', 'Simulatio...         1.99        1-10   \n",
       "2  ['Adventure', 'Indie', 'Violent', 'Horror', 'P...         2.39        1-10   \n",
       "3  ['Cute', 'Anime', 'VisualNovel', 'Trains', 'Ca...        12.49       11-20   \n",
       "4  [\"Shoot'EmUp\", 'Indie', 'Action', 'Arcade', '2...         0.00           0   \n",
       "\n",
       "   positive_reviews  total_reviews  five_stars  age  n_tags  \n",
       "0                83          0.095         0.0    8       3  \n",
       "1                88          0.326         0.0    1      15  \n",
       "2                94          0.175         0.0    3       5  \n",
       "3                95          0.285         1.0    4      15  \n",
       "4                90          0.151         0.0   11       9  "
      ]
     },
     "execution_count": 11,
     "metadata": {},
     "output_type": "execute_result"
    }
   ],
   "source": [
    "df.head()"
   ]
  },
  {
   "cell_type": "markdown",
   "metadata": {},
   "source": [
    "As we want to analyse the success of the game based on its review score, we created some figures that could help us better understand visually the sample we took."
   ]
  },
  {
   "cell_type": "code",
   "execution_count": 12,
   "metadata": {},
   "outputs": [
    {
     "data": {
      "image/png": "[encoded data removed]",
      "text/plain": [
       "<Figure size 576x360 with 1 Axes>"
      ]
     },
     "metadata": {
      "needs_background": "light"
     },
     "output_type": "display_data"
    }
   ],
   "source": [
    "#Figure 1 - Compatible OS\n",
    "\n",
    "table_OS=pd.crosstab(df.compatible_os,df.five_stars.astype(bool))\n",
    "table_OS.plot(kind='bar',stacked=True,figsize=(8, 5))\n",
    "plt.title('Compatible OS')\n",
    "plt.xlabel('quantity')\n",
    "plt.ylabel('frequency')\n",
    "plt.show()"
   ]
  },
  {
   "cell_type": "code",
   "execution_count": 13,
   "metadata": {},
   "outputs": [
    {
     "data": {
      "image/png": "[encoded data removed]",
      "text/plain": [
       "<Figure size 576x360 with 1 Axes>"
      ]
     },
     "metadata": {
      "needs_background": "light"
     },
     "output_type": "display_data"
    }
   ],
   "source": [
    "#Figure 2 - Languages available\n",
    "\n",
    "table_langue=pd.crosstab(df.number_languages[df.number_languages>0],df.five_stars[df.number_languages>0].astype(bool))\n",
    "table_langue.plot(kind='bar',stacked=True,width=0.8,figsize=(8, 5))\n",
    "plt.title('Languages available')\n",
    "plt.xlabel('quantity')\n",
    "plt.ylabel('frequency')\n",
    "plt.show()"
   ]
  },
  {
   "cell_type": "code",
   "execution_count": 14,
   "metadata": {},
   "outputs": [
    {
     "data": {
      "image/png": "[encoded data removed]",
      "text/plain": [
       "<Figure size 576x360 with 1 Axes>"
      ]
     },
     "metadata": {
      "needs_background": "light"
     },
     "output_type": "display_data"
    }
   ],
   "source": [
    "#Figure 3 - Age of the games\n",
    "\n",
    "table_age=pd.crosstab(df.age,df.five_stars.astype(bool))\n",
    "table_age.plot(kind='bar',stacked=True,width=0.8,figsize=(8, 5))\n",
    "plt.title('Age of the games')\n",
    "plt.xlabel('years')\n",
    "plt.ylabel('frequency')\n",
    "plt.show()"
   ]
  },
  {
   "cell_type": "code",
   "execution_count": 15,
   "metadata": {},
   "outputs": [
    {
     "data": {
      "image/png": "[encoded data removed]",
      "text/plain": [
       "<Figure size 576x360 with 1 Axes>"
      ]
     },
     "metadata": {
      "needs_background": "light"
     },
     "output_type": "display_data"
    }
   ],
   "source": [
    "#Figure 4 - Quantity of tags\n",
    "\n",
    "table_tags=pd.crosstab(df.n_tags,df.five_stars.astype(bool))\n",
    "table_tags.plot(kind='bar',stacked=True,figsize=(8, 5))\n",
    "plt.title('Tags')\n",
    "plt.xlabel('quantity')\n",
    "plt.ylabel('frequency')\n",
    "plt.show()"
   ]
  },
  {
   "cell_type": "code",
   "execution_count": 16,
   "metadata": {},
   "outputs": [
    {
     "data": {
      "image/png": "[encoded data removed]",
      "text/plain": [
       "<Figure size 576x360 with 1 Axes>"
      ]
     },
     "metadata": {
      "needs_background": "light"
     },
     "output_type": "display_data"
    }
   ],
   "source": [
    "#Figure 5 - Price of the games\n",
    "\n",
    "table_price=pd.crosstab(df.price_range,df.five_stars.astype(bool))\n",
    "table_price.plot(kind='bar',stacked=True,figsize=(8, 5))\n",
    "plt.title('Price of the games')\n",
    "plt.xlabel('euros')\n",
    "plt.ylabel('frequency')\n",
    "plt.show()"
   ]
  },
  {
   "cell_type": "code",
   "execution_count": 17,
   "metadata": {},
   "outputs": [
    {
     "data": {
      "image/png": "[encoded data removed]",
      "text/plain": [
       "<Figure size 1080x576 with 2 Axes>"
      ]
     },
     "metadata": {
      "needs_background": "light"
     },
     "output_type": "display_data"
    }
   ],
   "source": [
    "#Figure 6 - Distribution of the reviews\n",
    "plt.figure(figsize=(15, 8))\n",
    "\n",
    "#plot1\n",
    "plt.subplot(211)\n",
    "plt.hist((df.total_reviews[df.total_reviews>0])[df.total_reviews<(np.mean(df.total_reviews[df.total_reviews!=0])+3*np.std(df.total_reviews[df.total_reviews!=0]))],bins=100,edgecolor='white')\n",
    "plt.title(\"Histogram of the quantity of reviews\", fontsize=14)\n",
    "plt.ylabel('frequency')\n",
    "\n",
    "#plot2\n",
    "plt.subplot(212)\n",
    "plt.hist((df.total_reviews[df.total_reviews>0])[df.total_reviews<0.5],bins=100,edgecolor='white')\n",
    "plt.title(\"Histogram of the quantity of reviews (zoom in)\", fontsize=14)\n",
    "plt.xlabel('total quantity of reviews [thousands]')\n",
    "plt.ylabel('frequency')\n",
    "\n",
    "plt.show()"
   ]
  },
  {
   "cell_type": "code",
   "execution_count": 18,
   "metadata": {},
   "outputs": [
    {
     "data": {
      "image/png": "[encoded data removed]",
      "text/plain": [
       "<Figure size 1080x504 with 2 Axes>"
      ]
     },
     "metadata": {
      "needs_background": "light"
     },
     "output_type": "display_data"
    }
   ],
   "source": [
    "#Figure 7 - Network effects\n",
    "\n",
    "plt.figure(figsize=(15, 7))\n",
    "\n",
    "# plot1\n",
    "plt.subplot(121)\n",
    "x1=df['positive_reviews'][df.five_stars==0]\n",
    "x2=df['positive_reviews'][df.five_stars==1]\n",
    "y1=df.total_reviews[df.five_stars==0]\n",
    "y2=df.total_reviews[df.five_stars==1]\n",
    "plt.scatter(x1[df.total_reviews!=0],y1[df.total_reviews!=0],alpha=0.5,label='others')\n",
    "plt.scatter(x2[df.total_reviews!=0],y2[df.total_reviews!=0],alpha=0.5,label='five stars')\n",
    "plt.title(\"Network effects\",fontsize=14)\n",
    "plt.xlabel('Percentage of positive reviews [%]')\n",
    "plt.ylabel('Quantity of reviews [thousands]')\n",
    "plt.legend(loc=\"upper left\")\n",
    "plt.grid()\n",
    " \n",
    "# plot2\n",
    "plt.subplot(122)\n",
    "x1=df['positive_reviews'][df.five_stars==0]\n",
    "x2=df['positive_reviews'][df.five_stars==1]\n",
    "y1=df.total_reviews[df.five_stars==0]\n",
    "y2=df.total_reviews[df.five_stars==1]\n",
    "plt.scatter(x1[df.total_reviews!=0],y1[df.total_reviews!=0],alpha=0.5,label='others')\n",
    "plt.scatter(x2[df.total_reviews!=0],y2[df.total_reviews!=0],alpha=0.5,label='five stars')\n",
    "plt.ylim(1,50)\n",
    "plt.xlim(60,100)\n",
    "plt.title(\"Network effects (zoom in)\", fontsize=14)\n",
    "plt.xlabel('Percentage of positive reviews [%]')\n",
    "plt.ylabel('Quantity of reviews [thousands]')\n",
    "plt.legend(loc=\"upper left\")\n",
    "plt.grid()\n",
    "\n",
    "plt.show()"
   ]
  },
  {
   "cell_type": "code",
   "execution_count": 19,
   "metadata": {},
   "outputs": [
    {
     "data": {
      "image/png": "[encoded data removed]",
      "text/plain": [
       "<Figure size 576x360 with 1 Axes>"
      ]
     },
     "metadata": {
      "needs_background": "light"
     },
     "output_type": "display_data"
    }
   ],
   "source": [
    "#Figure 8 - top 10 Developers in quantity of games\n",
    "\n",
    "dev=df.groupby('developers').agg({'title':'count', 'five_stars':'sum'}).sort_values('title',ascending=False)\n",
    "others=dev['title']-dev['five_stars']\n",
    "dev['others']=others\n",
    "dev.pop('title')\n",
    "dev=dev[['others','five_stars']]\n",
    "top10_dev=dev[0:10]\n",
    "top10_dev.plot(kind='bar',stacked=True,figsize=(8, 5))\n",
    "plt.title(\"Top 10 developers\", fontsize=14)\n",
    "plt.xlabel('Developers')\n",
    "plt.ylabel('Quantity of games')\n",
    "\n",
    "plt.show()"
   ]
  },
  {
   "cell_type": "markdown",
   "metadata": {},
   "source": [
    "# Regression analysis"
   ]
  },
  {
   "cell_type": "markdown",
   "metadata": {},
   "source": [
    "Descriptive statistics:"
   ]
  },
  {
   "cell_type": "code",
   "execution_count": 21,
   "metadata": {},
   "outputs": [
    {
     "data": {
      "text/html": [
       "<div>\n",
       "<style scoped>\n",
       "    .dataframe tbody tr th:only-of-type {\n",
       "        vertical-align: middle;\n",
       "    }\n",
       "\n",
       "    .dataframe tbody tr th {\n",
       "        vertical-align: top;\n",
       "    }\n",
       "\n",
       "    .dataframe thead th {\n",
       "        text-align: right;\n",
       "    }\n",
       "</style>\n",
       "<table border=\"1\" class=\"dataframe\">\n",
       "  <thead>\n",
       "    <tr style=\"text-align: right;\">\n",
       "      <th></th>\n",
       "      <th>number_languages</th>\n",
       "      <th>compatible_os</th>\n",
       "      <th>price_float</th>\n",
       "      <th>positive_reviews</th>\n",
       "      <th>total_reviews</th>\n",
       "      <th>age</th>\n",
       "      <th>n_tags</th>\n",
       "    </tr>\n",
       "  </thead>\n",
       "  <tbody>\n",
       "    <tr>\n",
       "      <th>count</th>\n",
       "      <td>14006.000000</td>\n",
       "      <td>14006.000000</td>\n",
       "      <td>14006.000000</td>\n",
       "      <td>14006.000000</td>\n",
       "      <td>14006.000000</td>\n",
       "      <td>14006.000000</td>\n",
       "      <td>14006.000000</td>\n",
       "    </tr>\n",
       "    <tr>\n",
       "      <th>mean</th>\n",
       "      <td>5.058118</td>\n",
       "      <td>1.529987</td>\n",
       "      <td>10.610728</td>\n",
       "      <td>72.521348</td>\n",
       "      <td>1.199383</td>\n",
       "      <td>4.909325</td>\n",
       "      <td>14.500643</td>\n",
       "    </tr>\n",
       "    <tr>\n",
       "      <th>std</th>\n",
       "      <td>5.285837</td>\n",
       "      <td>0.781658</td>\n",
       "      <td>25.679529</td>\n",
       "      <td>31.653927</td>\n",
       "      <td>6.601120</td>\n",
       "      <td>4.728161</td>\n",
       "      <td>5.966918</td>\n",
       "    </tr>\n",
       "    <tr>\n",
       "      <th>min</th>\n",
       "      <td>1.000000</td>\n",
       "      <td>1.000000</td>\n",
       "      <td>0.000000</td>\n",
       "      <td>0.000000</td>\n",
       "      <td>0.000000</td>\n",
       "      <td>0.000000</td>\n",
       "      <td>1.000000</td>\n",
       "    </tr>\n",
       "    <tr>\n",
       "      <th>25%</th>\n",
       "      <td>1.000000</td>\n",
       "      <td>1.000000</td>\n",
       "      <td>3.900000</td>\n",
       "      <td>75.000000</td>\n",
       "      <td>0.026000</td>\n",
       "      <td>2.000000</td>\n",
       "      <td>9.000000</td>\n",
       "    </tr>\n",
       "    <tr>\n",
       "      <th>50%</th>\n",
       "      <td>3.000000</td>\n",
       "      <td>1.000000</td>\n",
       "      <td>8.190000</td>\n",
       "      <td>85.000000</td>\n",
       "      <td>0.121000</td>\n",
       "      <td>4.000000</td>\n",
       "      <td>17.000000</td>\n",
       "    </tr>\n",
       "    <tr>\n",
       "      <th>75%</th>\n",
       "      <td>8.000000</td>\n",
       "      <td>2.000000</td>\n",
       "      <td>14.990000</td>\n",
       "      <td>91.000000</td>\n",
       "      <td>0.564000</td>\n",
       "      <td>6.000000</td>\n",
       "      <td>20.000000</td>\n",
       "    </tr>\n",
       "    <tr>\n",
       "      <th>max</th>\n",
       "      <td>29.000000</td>\n",
       "      <td>3.000000</td>\n",
       "      <td>2015.000000</td>\n",
       "      <td>99.000000</td>\n",
       "      <td>464.423000</td>\n",
       "      <td>39.000000</td>\n",
       "      <td>20.000000</td>\n",
       "    </tr>\n",
       "  </tbody>\n",
       "</table>\n",
       "</div>"
      ],
      "text/plain": [
       "       number_languages  compatible_os   price_float  positive_reviews  \\\n",
       "count      14006.000000   14006.000000  14006.000000      14006.000000   \n",
       "mean           5.058118       1.529987     10.610728         72.521348   \n",
       "std            5.285837       0.781658     25.679529         31.653927   \n",
       "min            1.000000       1.000000      0.000000          0.000000   \n",
       "25%            1.000000       1.000000      3.900000         75.000000   \n",
       "50%            3.000000       1.000000      8.190000         85.000000   \n",
       "75%            8.000000       2.000000     14.990000         91.000000   \n",
       "max           29.000000       3.000000   2015.000000         99.000000   \n",
       "\n",
       "       total_reviews           age        n_tags  \n",
       "count   14006.000000  14006.000000  14006.000000  \n",
       "mean        1.199383      4.909325     14.500643  \n",
       "std         6.601120      4.728161      5.966918  \n",
       "min         0.000000      0.000000      1.000000  \n",
       "25%         0.026000      2.000000      9.000000  \n",
       "50%         0.121000      4.000000     17.000000  \n",
       "75%         0.564000      6.000000     20.000000  \n",
       "max       464.423000     39.000000     20.000000  "
      ]
     },
     "execution_count": 21,
     "metadata": {},
     "output_type": "execute_result"
    }
   ],
   "source": [
    "# Summary of all continous variables\n",
    "df_cont=df.iloc[:,[7,8,10,12,13,15,16]]\n",
    "df_cont.describe()"
   ]
  },
  {
   "cell_type": "markdown",
   "metadata": {},
   "source": [
    "The regression will analyse the impact of some game characteristics on its review score. So the dependent variable is the ratio of positive reviews of the games while the explanatory ones would be: \n",
    "\n",
    "   - the number of operational systems compatible\n",
    "   - the number of languages available\n",
    "   - the age of the game in years\n",
    "   - the number of reviews users did\n",
    "   - the price of the games\n",
    "   - the number of tags linked to the game"
   ]
  },
  {
   "cell_type": "code",
   "execution_count": 22,
   "metadata": {},
   "outputs": [
    {
     "data": {
      "text/html": [
       "<div>\n",
       "<style scoped>\n",
       "    .dataframe tbody tr th:only-of-type {\n",
       "        vertical-align: middle;\n",
       "    }\n",
       "\n",
       "    .dataframe tbody tr th {\n",
       "        vertical-align: top;\n",
       "    }\n",
       "\n",
       "    .dataframe thead th {\n",
       "        text-align: right;\n",
       "    }\n",
       "</style>\n",
       "<table border=\"1\" class=\"dataframe\">\n",
       "  <thead>\n",
       "    <tr style=\"text-align: right;\">\n",
       "      <th></th>\n",
       "      <th>number_languages</th>\n",
       "      <th>compatible_os</th>\n",
       "      <th>price_float</th>\n",
       "      <th>total_reviews</th>\n",
       "      <th>age</th>\n",
       "      <th>n_tags</th>\n",
       "    </tr>\n",
       "  </thead>\n",
       "  <tbody>\n",
       "    <tr>\n",
       "      <th>0</th>\n",
       "      <td>7</td>\n",
       "      <td>1</td>\n",
       "      <td>4.99</td>\n",
       "      <td>0.095</td>\n",
       "      <td>8</td>\n",
       "      <td>3</td>\n",
       "    </tr>\n",
       "    <tr>\n",
       "      <th>1</th>\n",
       "      <td>1</td>\n",
       "      <td>1</td>\n",
       "      <td>1.99</td>\n",
       "      <td>0.326</td>\n",
       "      <td>1</td>\n",
       "      <td>15</td>\n",
       "    </tr>\n",
       "    <tr>\n",
       "      <th>2</th>\n",
       "      <td>1</td>\n",
       "      <td>1</td>\n",
       "      <td>2.39</td>\n",
       "      <td>0.175</td>\n",
       "      <td>3</td>\n",
       "      <td>5</td>\n",
       "    </tr>\n",
       "    <tr>\n",
       "      <th>3</th>\n",
       "      <td>2</td>\n",
       "      <td>1</td>\n",
       "      <td>12.49</td>\n",
       "      <td>0.285</td>\n",
       "      <td>4</td>\n",
       "      <td>15</td>\n",
       "    </tr>\n",
       "    <tr>\n",
       "      <th>4</th>\n",
       "      <td>2</td>\n",
       "      <td>2</td>\n",
       "      <td>0.00</td>\n",
       "      <td>0.151</td>\n",
       "      <td>11</td>\n",
       "      <td>9</td>\n",
       "    </tr>\n",
       "  </tbody>\n",
       "</table>\n",
       "</div>"
      ],
      "text/plain": [
       "   number_languages  compatible_os  price_float  total_reviews  age  n_tags\n",
       "0                 7              1         4.99          0.095    8       3\n",
       "1                 1              1         1.99          0.326    1      15\n",
       "2                 1              1         2.39          0.175    3       5\n",
       "3                 2              1        12.49          0.285    4      15\n",
       "4                 2              2         0.00          0.151   11       9"
      ]
     },
     "execution_count": 22,
     "metadata": {},
     "output_type": "execute_result"
    }
   ],
   "source": [
    "Y=df['positive_reviews'][df.total_reviews!=0].values\n",
    "explanat=df.iloc[:,[7,8,10,13,15,16]]\n",
    "explanat.head()"
   ]
  },
  {
   "cell_type": "markdown",
   "metadata": {},
   "source": [
    "Before running the regression model, we need to check if the explanatory variables are not highly correlated with each other, to avoid multicolitearity problems:"
   ]
  },
  {
   "cell_type": "code",
   "execution_count": 23,
   "metadata": {},
   "outputs": [
    {
     "data": {
      "text/html": [
       "<div>\n",
       "<style scoped>\n",
       "    .dataframe tbody tr th:only-of-type {\n",
       "        vertical-align: middle;\n",
       "    }\n",
       "\n",
       "    .dataframe tbody tr th {\n",
       "        vertical-align: top;\n",
       "    }\n",
       "\n",
       "    .dataframe thead th {\n",
       "        text-align: right;\n",
       "    }\n",
       "</style>\n",
       "<table border=\"1\" class=\"dataframe\">\n",
       "  <thead>\n",
       "    <tr style=\"text-align: right;\">\n",
       "      <th></th>\n",
       "      <th>number_languages</th>\n",
       "      <th>compatible_os</th>\n",
       "      <th>price_float</th>\n",
       "      <th>total_reviews</th>\n",
       "      <th>age</th>\n",
       "      <th>n_tags</th>\n",
       "    </tr>\n",
       "  </thead>\n",
       "  <tbody>\n",
       "    <tr>\n",
       "      <th>number_languages</th>\n",
       "      <td>1.000000</td>\n",
       "      <td>0.065318</td>\n",
       "      <td>0.028761</td>\n",
       "      <td>0.077842</td>\n",
       "      <td>-0.089890</td>\n",
       "      <td>0.134688</td>\n",
       "    </tr>\n",
       "    <tr>\n",
       "      <th>compatible_os</th>\n",
       "      <td>0.065318</td>\n",
       "      <td>1.000000</td>\n",
       "      <td>-0.027631</td>\n",
       "      <td>0.053218</td>\n",
       "      <td>0.073553</td>\n",
       "      <td>0.042065</td>\n",
       "    </tr>\n",
       "    <tr>\n",
       "      <th>price_float</th>\n",
       "      <td>0.028761</td>\n",
       "      <td>-0.027631</td>\n",
       "      <td>1.000000</td>\n",
       "      <td>0.030849</td>\n",
       "      <td>-0.019446</td>\n",
       "      <td>0.033129</td>\n",
       "    </tr>\n",
       "    <tr>\n",
       "      <th>total_reviews</th>\n",
       "      <td>0.077842</td>\n",
       "      <td>0.053218</td>\n",
       "      <td>0.030849</td>\n",
       "      <td>1.000000</td>\n",
       "      <td>0.064053</td>\n",
       "      <td>0.124757</td>\n",
       "    </tr>\n",
       "    <tr>\n",
       "      <th>age</th>\n",
       "      <td>-0.089890</td>\n",
       "      <td>0.073553</td>\n",
       "      <td>-0.019446</td>\n",
       "      <td>0.064053</td>\n",
       "      <td>1.000000</td>\n",
       "      <td>-0.238401</td>\n",
       "    </tr>\n",
       "    <tr>\n",
       "      <th>n_tags</th>\n",
       "      <td>0.134688</td>\n",
       "      <td>0.042065</td>\n",
       "      <td>0.033129</td>\n",
       "      <td>0.124757</td>\n",
       "      <td>-0.238401</td>\n",
       "      <td>1.000000</td>\n",
       "    </tr>\n",
       "  </tbody>\n",
       "</table>\n",
       "</div>"
      ],
      "text/plain": [
       "                  number_languages  compatible_os  price_float  total_reviews  \\\n",
       "number_languages          1.000000       0.065318     0.028761       0.077842   \n",
       "compatible_os             0.065318       1.000000    -0.027631       0.053218   \n",
       "price_float               0.028761      -0.027631     1.000000       0.030849   \n",
       "total_reviews             0.077842       0.053218     0.030849       1.000000   \n",
       "age                      -0.089890       0.073553    -0.019446       0.064053   \n",
       "n_tags                    0.134688       0.042065     0.033129       0.124757   \n",
       "\n",
       "                       age    n_tags  \n",
       "number_languages -0.089890  0.134688  \n",
       "compatible_os     0.073553  0.042065  \n",
       "price_float      -0.019446  0.033129  \n",
       "total_reviews     0.064053  0.124757  \n",
       "age               1.000000 -0.238401  \n",
       "n_tags           -0.238401  1.000000  "
      ]
     },
     "execution_count": 23,
     "metadata": {},
     "output_type": "execute_result"
    }
   ],
   "source": [
    "explanat.corr()"
   ]
  },
  {
   "cell_type": "markdown",
   "metadata": {},
   "source": [
    "In the correlation matrix above, we can see that there are no strong correlation between these variables, so they all can be introduced into the model as independet variables. Below we can se the correlation of the review score with each variable:"
   ]
  },
  {
   "cell_type": "code",
   "execution_count": 24,
   "metadata": {},
   "outputs": [
    {
     "data": {
      "image/png": "[encoded data removed]",
      "text/plain": [
       "<Figure size 936x72 with 2 Axes>"
      ]
     },
     "metadata": {
      "needs_background": "light"
     },
     "output_type": "display_data"
    }
   ],
   "source": [
    "plt.figure(figsize = (13, 1))\n",
    "corrMatrix = df_cont.corr(method ='pearson')[3:4]\n",
    "sns.heatmap(corrMatrix, annot=True)\n",
    "plt.title('Correlation')\n",
    "plt.show()"
   ]
  },
  {
   "cell_type": "markdown",
   "metadata": {},
   "source": [
    "We can see that the number of compatible OS and the number of reviews are the most correlated with the review score.\n",
    "\n",
    "Now let's run the OLS model:\n",
    "\n",
    "$$\n",
    "Review  Score ≈ \\beta_0 + \\beta_1 OS + \\beta_2 Languages + \\beta_3 Price + \\beta_4 Reviews + \\beta_5 Age + \\beta_6 Tags\n",
    "$$"
   ]
  },
  {
   "cell_type": "code",
   "execution_count": 25,
   "metadata": {},
   "outputs": [
    {
     "data": {
      "text/html": [
       "<table class=\"simpletable\">\n",
       "<tr>\n",
       "          <td></td>            <th>coef</th>     <th>std err</th>      <th>t</th>      <th>P>|t|</th>  <th>[0.025</th>    <th>0.975]</th>  \n",
       "</tr>\n",
       "<tr>\n",
       "  <th>Intercept</th>        <td>   77.3499</td> <td>    0.587</td> <td>  131.860</td> <td> 0.000</td> <td>   76.200</td> <td>   78.500</td>\n",
       "</tr>\n",
       "<tr>\n",
       "  <th>compatible_os</th>    <td>    1.0504</td> <td>    0.205</td> <td>    5.128</td> <td> 0.000</td> <td>    0.649</td> <td>    1.452</td>\n",
       "</tr>\n",
       "<tr>\n",
       "  <th>number_languages</th> <td>    0.1105</td> <td>    0.031</td> <td>    3.603</td> <td> 0.000</td> <td>    0.050</td> <td>    0.171</td>\n",
       "</tr>\n",
       "<tr>\n",
       "  <th>price_float</th>      <td>    0.0159</td> <td>    0.006</td> <td>    2.655</td> <td> 0.008</td> <td>    0.004</td> <td>    0.028</td>\n",
       "</tr>\n",
       "<tr>\n",
       "  <th>total_reviews</th>    <td>    0.1225</td> <td>    0.023</td> <td>    5.243</td> <td> 0.000</td> <td>    0.077</td> <td>    0.168</td>\n",
       "</tr>\n",
       "<tr>\n",
       "  <th>age</th>              <td>    0.3839</td> <td>    0.035</td> <td>   10.937</td> <td> 0.000</td> <td>    0.315</td> <td>    0.453</td>\n",
       "</tr>\n",
       "<tr>\n",
       "  <th>n_tags</th>           <td>    0.0432</td> <td>    0.028</td> <td>    1.519</td> <td> 0.129</td> <td>   -0.013</td> <td>    0.099</td>\n",
       "</tr>\n",
       "</table>"
      ],
      "text/plain": [
       "<class 'statsmodels.iolib.table.SimpleTable'>"
      ]
     },
     "execution_count": 25,
     "metadata": {},
     "output_type": "execute_result"
    }
   ],
   "source": [
    "estm = sm.OLS.from_formula('positive_reviews ~ compatible_os + number_languages + price_float + total_reviews + age + n_tags', df[df.total_reviews!=0]).fit()\n",
    "estm.summary().tables[1]"
   ]
  },
  {
   "cell_type": "markdown",
   "metadata": {},
   "source": [
    "The OLS results show us that the number of tags is not very significant in the model, as its p-value is higher than 10%. From the rest of the explanatory variables, the number of compatible operational systems has the highest coefficient in the equation. However, it's worth mentioning that each variable has a different range, with number of OS range varying from 1-3 and the number of reviews in thousands, for instance."
   ]
  },
  {
   "cell_type": "code",
   "execution_count": 26,
   "metadata": {},
   "outputs": [
    {
     "data": {
      "text/html": [
       "<table class=\"simpletable\">\n",
       "<caption>OLS Regression Results</caption>\n",
       "<tr>\n",
       "  <th>Dep. Variable:</th>    <td>positive_reviews</td> <th>  R-squared:         </th> <td>   0.018</td> \n",
       "</tr>\n",
       "<tr>\n",
       "  <th>Model:</th>                   <td>OLS</td>       <th>  Adj. R-squared:    </th> <td>   0.017</td> \n",
       "</tr>\n",
       "<tr>\n",
       "  <th>Method:</th>             <td>Least Squares</td>  <th>  F-statistic:       </th> <td>   37.17</td> \n",
       "</tr>\n",
       "<tr>\n",
       "  <th>Date:</th>             <td>Fri, 28 Jan 2022</td> <th>  Prob (F-statistic):</th> <td>6.23e-45</td> \n",
       "</tr>\n",
       "<tr>\n",
       "  <th>Time:</th>                 <td>02:09:39</td>     <th>  Log-Likelihood:    </th> <td> -53061.</td> \n",
       "</tr>\n",
       "<tr>\n",
       "  <th>No. Observations:</th>      <td> 12330</td>      <th>  AIC:               </th> <td>1.061e+05</td>\n",
       "</tr>\n",
       "<tr>\n",
       "  <th>Df Residuals:</th>          <td> 12323</td>      <th>  BIC:               </th> <td>1.062e+05</td>\n",
       "</tr>\n",
       "<tr>\n",
       "  <th>Df Model:</th>              <td>     6</td>      <th>                     </th>     <td> </td>    \n",
       "</tr>\n",
       "<tr>\n",
       "  <th>Covariance Type:</th>      <td>nonrobust</td>    <th>                     </th>     <td> </td>    \n",
       "</tr>\n",
       "</table>\n",
       "<table class=\"simpletable\">\n",
       "<tr>\n",
       "          <td></td>            <th>coef</th>     <th>std err</th>      <th>t</th>      <th>P>|t|</th>  <th>[0.025</th>    <th>0.975]</th>  \n",
       "</tr>\n",
       "<tr>\n",
       "  <th>Intercept</th>        <td>   77.3499</td> <td>    0.587</td> <td>  131.860</td> <td> 0.000</td> <td>   76.200</td> <td>   78.500</td>\n",
       "</tr>\n",
       "<tr>\n",
       "  <th>compatible_os</th>    <td>    1.0504</td> <td>    0.205</td> <td>    5.128</td> <td> 0.000</td> <td>    0.649</td> <td>    1.452</td>\n",
       "</tr>\n",
       "<tr>\n",
       "  <th>number_languages</th> <td>    0.1105</td> <td>    0.031</td> <td>    3.603</td> <td> 0.000</td> <td>    0.050</td> <td>    0.171</td>\n",
       "</tr>\n",
       "<tr>\n",
       "  <th>price_float</th>      <td>    0.0159</td> <td>    0.006</td> <td>    2.655</td> <td> 0.008</td> <td>    0.004</td> <td>    0.028</td>\n",
       "</tr>\n",
       "<tr>\n",
       "  <th>total_reviews</th>    <td>    0.1225</td> <td>    0.023</td> <td>    5.243</td> <td> 0.000</td> <td>    0.077</td> <td>    0.168</td>\n",
       "</tr>\n",
       "<tr>\n",
       "  <th>age</th>              <td>    0.3839</td> <td>    0.035</td> <td>   10.937</td> <td> 0.000</td> <td>    0.315</td> <td>    0.453</td>\n",
       "</tr>\n",
       "<tr>\n",
       "  <th>n_tags</th>           <td>    0.0432</td> <td>    0.028</td> <td>    1.519</td> <td> 0.129</td> <td>   -0.013</td> <td>    0.099</td>\n",
       "</tr>\n",
       "</table>\n",
       "<table class=\"simpletable\">\n",
       "<tr>\n",
       "  <th>Omnibus:</th>       <td>7621.797</td> <th>  Durbin-Watson:     </th> <td>   1.966</td> \n",
       "</tr>\n",
       "<tr>\n",
       "  <th>Prob(Omnibus):</th>  <td> 0.000</td>  <th>  Jarque-Bera (JB):  </th> <td>63474.469</td>\n",
       "</tr>\n",
       "<tr>\n",
       "  <th>Skew:</th>           <td>-2.994</td>  <th>  Prob(JB):          </th> <td>    0.00</td> \n",
       "</tr>\n",
       "<tr>\n",
       "  <th>Kurtosis:</th>       <td>12.364</td>  <th>  Cond. No.          </th> <td>    110.</td> \n",
       "</tr>\n",
       "</table><br/><br/>Notes:<br/>[1] Standard Errors assume that the covariance matrix of the errors is correctly specified."
      ],
      "text/plain": [
       "<class 'statsmodels.iolib.summary.Summary'>\n",
       "\"\"\"\n",
       "                            OLS Regression Results                            \n",
       "==============================================================================\n",
       "Dep. Variable:       positive_reviews   R-squared:                       0.018\n",
       "Model:                            OLS   Adj. R-squared:                  0.017\n",
       "Method:                 Least Squares   F-statistic:                     37.17\n",
       "Date:                Fri, 28 Jan 2022   Prob (F-statistic):           6.23e-45\n",
       "Time:                        02:09:39   Log-Likelihood:                -53061.\n",
       "No. Observations:               12330   AIC:                         1.061e+05\n",
       "Df Residuals:                   12323   BIC:                         1.062e+05\n",
       "Df Model:                           6                                         \n",
       "Covariance Type:            nonrobust                                         \n",
       "====================================================================================\n",
       "                       coef    std err          t      P>|t|      [0.025      0.975]\n",
       "------------------------------------------------------------------------------------\n",
       "Intercept           77.3499      0.587    131.860      0.000      76.200      78.500\n",
       "compatible_os        1.0504      0.205      5.128      0.000       0.649       1.452\n",
       "number_languages     0.1105      0.031      3.603      0.000       0.050       0.171\n",
       "price_float          0.0159      0.006      2.655      0.008       0.004       0.028\n",
       "total_reviews        0.1225      0.023      5.243      0.000       0.077       0.168\n",
       "age                  0.3839      0.035     10.937      0.000       0.315       0.453\n",
       "n_tags               0.0432      0.028      1.519      0.129      -0.013       0.099\n",
       "==============================================================================\n",
       "Omnibus:                     7621.797   Durbin-Watson:                   1.966\n",
       "Prob(Omnibus):                  0.000   Jarque-Bera (JB):            63474.469\n",
       "Skew:                          -2.994   Prob(JB):                         0.00\n",
       "Kurtosis:                      12.364   Cond. No.                         110.\n",
       "==============================================================================\n",
       "\n",
       "Notes:\n",
       "[1] Standard Errors assume that the covariance matrix of the errors is correctly specified.\n",
       "\"\"\""
      ]
     },
     "execution_count": 26,
     "metadata": {},
     "output_type": "execute_result"
    }
   ],
   "source": [
    "# Analysing R-squared\n",
    "estm.summary()"
   ]
  },
  {
   "cell_type": "markdown",
   "metadata": {},
   "source": [
    "In most of the cases, having a high r-squared is good for the regression model and a low r-squared is generally a bad sign. However, in some cases, a good model may show a small value like 0.018 that we got. So, we have to analyse deeply and try to discover the source of it. Maybe, a tutor meeting with Pierre-François Darlas can help us to better understand. "
   ]
  },
  {
   "cell_type": "code",
   "execution_count": null,
   "metadata": {},
   "outputs": [],
   "source": []
  }
 ],
 "metadata": {
  "kernelspec": {
   "display_name": "Python 3 (ipykernel)",
   "language": "python",
   "name": "python3"
  },
  "language_info": {
   "codemirror_mode": {
    "name": "ipython",
    "version": 3
   },
   "file_extension": ".py",
   "mimetype": "text/x-python",
   "name": "python",
   "nbconvert_exporter": "python",
   "pygments_lexer": "ipython3",
   "version": "3.9.9"
  }
 },
 "nbformat": 4,
 "nbformat_minor": 2
}
